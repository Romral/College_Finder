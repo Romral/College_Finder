{
 "cells": [
  {
   "cell_type": "code",
   "execution_count": 15,
   "metadata": {},
   "outputs": [],
   "source": [
    "def multi(num):\n",
    "    \"\"\"This function prints the multiplication table, till it's 12th multiple, of an Entered Number\"\"\"\n",
    "    i = 1\n",
    "    print('-'*30)\n",
    "    print(\"  Multiplication Table of \",num)\n",
    "    print('-'*30)\n",
    "    while i<=12:\n",
    "        print(\"\\t{num} x {i} = {prod}\".format(i=i,num=num,prod = i*num))\n",
    "        i = i+1\n",
    "    print('-'*30)"
   ]
  },
  {
   "cell_type": "code",
   "execution_count": 16,
   "metadata": {},
   "outputs": [
    {
     "name": "stdout",
     "output_type": "stream",
     "text": [
      "Enter a number of your choice: 8\n",
      "------------------------------\n",
      "  Multiplication Table of  8\n",
      "------------------------------\n",
      "\t8 x 1 = 8\n",
      "\t8 x 2 = 16\n",
      "\t8 x 3 = 24\n",
      "\t8 x 4 = 32\n",
      "\t8 x 5 = 40\n",
      "\t8 x 6 = 48\n",
      "\t8 x 7 = 56\n",
      "\t8 x 8 = 64\n",
      "\t8 x 9 = 72\n",
      "\t8 x 10 = 80\n",
      "\t8 x 11 = 88\n",
      "\t8 x 12 = 96\n",
      "------------------------------\n"
     ]
    }
   ],
   "source": [
    "num = int(input(\"Enter a number of your choice: \"))\n",
    "multi(num)"
   ]
  },
  {
   "cell_type": "code",
   "execution_count": 17,
   "metadata": {},
   "outputs": [
    {
     "name": "stdout",
     "output_type": "stream",
     "text": [
      "This function prints the multiplication table, till it's 12th multiple, of an Entered Number\n"
     ]
    }
   ],
   "source": [
    "print(multi.__doc__)"
   ]
  },
  {
   "cell_type": "code",
   "execution_count": null,
   "metadata": {},
   "outputs": [],
   "source": []
  }
 ],
 "metadata": {
  "kernelspec": {
   "display_name": "Python 3",
   "language": "python",
   "name": "python3"
  },
  "language_info": {
   "codemirror_mode": {
    "name": "ipython",
    "version": 3
   },
   "file_extension": ".py",
   "mimetype": "text/x-python",
   "name": "python",
   "nbconvert_exporter": "python",
   "pygments_lexer": "ipython3",
   "version": "3.7.3"
  }
 },
 "nbformat": 4,
 "nbformat_minor": 4
}
