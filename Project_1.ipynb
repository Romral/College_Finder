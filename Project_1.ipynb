{
 "cells": [
  {
   "cell_type": "markdown",
   "metadata": {},
   "source": [
    "# Hello Fellow Student\n",
    "\n",
    "## Enter your credentials Please"
   ]
  },
  {
   "cell_type": "code",
   "execution_count": 7,
   "metadata": {},
   "outputs": [
    {
     "name": "stdout",
     "output_type": "stream",
     "text": [
      "Name: Gajodhan\n",
      "Standard: 12\n",
      "Division: C\n",
      "Roll no.: 41\n",
      "\n",
      ":::::::: MARKS ENTRY ::::::::\n",
      "\n",
      "Maths: 87\n",
      "English: 88\n",
      "Science: 98\n",
      "\n",
      "Percentage calculated::91.0\n",
      "\n",
      ":::::::: Check Your Credentials Please ::::::::\n",
      "\n",
      "Your Name:  Gajodhan\n",
      "Standard:  12\n",
      "Division:  C\n",
      "Marks in Maths:  87\n",
      "Marks in English:  88\n",
      "Marks in Science:  98\n",
      "Net Percentage:  91.0\n",
      "\n",
      "Do you want to change the data?(y/n)\n",
      "y\n",
      "Name: Gajodhan\n",
      "Standard: 12\n",
      "Division: D\n",
      "Roll no.: 41\n",
      "\n",
      ":::::::: MARKS ENTRY ::::::::\n",
      "\n",
      "Maths: 87\n",
      "English: 88\n",
      "Science: 98\n",
      "\n",
      ":::::::: Check Your Credentials Please ::::::::\n",
      "\n",
      "Your Name:  Gajodhan\n",
      "Standard:  12\n",
      "Division:  D\n",
      "Roll No.:  41\n",
      "Marks in Maths:  87\n",
      "Marks in English:  88\n",
      "Marks in Science:  98\n",
      "Net Percentage:  91.0\n",
      "Thank you for your time..\n"
     ]
    }
   ],
   "source": [
    "name = str(input(\"Name: \"))\n",
    "standard = int(input(\"Standard: \"))\n",
    "division = str(input(\"Division: \"))\n",
    "roll = str(input(\"Roll no.: \"))\n",
    "print(\"\\n:::::::: MARKS ENTRY ::::::::\\n\")\n",
    "maths = int(input(\"Maths: \"))\n",
    "english = int(input(\"English: \"))\n",
    "science = int(input(\"Science: \"))\n",
    "percent = (maths + english + science)/3\n",
    "print(\"\\nPercentage calculated::\" + str(percent))\n",
    "print(\"\\n:::::::: Check Your Credentials Please ::::::::\\n\")\n",
    "print(\"Your Name: \",name)\n",
    "print(\"Standard: \",standard)\n",
    "print(\"Division: \",division)\n",
    "print(\"Marks in Maths: \",maths)\n",
    "print(\"Marks in English: \",english)\n",
    "print(\"Marks in Science: \",science)\n",
    "print(\"Net Percentage: \",percent)\n",
    "check = str(input(\"\\nDo you want to change the data?(y/n)\\n\"))\n",
    "if check == 'y':\n",
    "    name = str(input(\"Name: \"))\n",
    "    standard = int(input(\"Standard: \"))\n",
    "    division = str(input(\"Division: \"))\n",
    "    roll = str(input(\"Roll no.: \"))\n",
    "    print(\"\\n:::::::: MARKS ENTRY ::::::::\\n\")\n",
    "    maths = int(input(\"Maths: \"))\n",
    "    english = int(input(\"English: \"))\n",
    "    science = int(input(\"Science: \"))\n",
    "    percent = (maths + english + science)/3\n",
    "    print(\"\\n:::::::: Check Your Credentials Please ::::::::\\n\")\n",
    "    print(\"Your Name: \",name)\n",
    "    print(\"Standard: \",standard)\n",
    "    print(\"Division: \",division)\n",
    "    print(\"Roll No.: \",roll)\n",
    "    print(\"Marks in Maths: \",maths)\n",
    "    print(\"Marks in English: \",english)\n",
    "    print(\"Marks in Science: \",science)\n",
    "    print(\"Net Percentage: \",percent)\n",
    "    print(\"Thank you for your time..\")\n",
    "elif check == 'n':\n",
    "    print(\"Thank you for your time..\")\n",
    "else: \n",
    "    print(\"Please enter (y/n)\")"
   ]
  },
  {
   "cell_type": "code",
   "execution_count": null,
   "metadata": {},
   "outputs": [],
   "source": []
  },
  {
   "cell_type": "code",
   "execution_count": null,
   "metadata": {},
   "outputs": [],
   "source": []
  }
 ],
 "metadata": {
  "kernelspec": {
   "display_name": "Python 3",
   "language": "python",
   "name": "python3"
  },
  "language_info": {
   "codemirror_mode": {
    "name": "ipython",
    "version": 3
   },
   "file_extension": ".py",
   "mimetype": "text/x-python",
   "name": "python",
   "nbconvert_exporter": "python",
   "pygments_lexer": "ipython3",
   "version": "3.7.3"
  }
 },
 "nbformat": 4,
 "nbformat_minor": 4
}
