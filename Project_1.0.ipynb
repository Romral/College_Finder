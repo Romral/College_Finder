{
 "cells": [
  {
   "cell_type": "markdown",
   "metadata": {},
   "source": [
    "# Hello Fellow Student\n",
    "\n",
    "## Enter your credentials Please"
   ]
  },
  {
   "cell_type": "code",
   "execution_count": 6,
   "metadata": {},
   "outputs": [
    {
     "name": "stdout",
     "output_type": "stream",
     "text": [
      "Name: Gajodhan\n",
      "Standard: 12\n",
      "Division: B\n",
      "Roll no.: 123\n",
      "\n",
      ":::::::: MARKS ENTRY ::::::::\n",
      "\n",
      "Maths: 78\n",
      "English: 76\n",
      "Science: 89\n",
      "\n",
      "Percentage calculated::81.0\n"
     ]
    }
   ],
   "source": [
    "name = str(input(\"Name: \"))\n",
    "standard = int(input(\"Standard: \"))\n",
    "division = str(input(\"Division: \"))\n",
    "roll = str(input(\"Roll no.: \"))\n",
    "print(\"\\n:::::::: MARKS ENTRY ::::::::\\n\")\n",
    "maths = int(input(\"Maths: \"))\n",
    "english = int(input(\"English: \"))\n",
    "science = int(input(\"Science: \"))\n",
    "percent = (maths + english + science)/3\n",
    "print(\"\\nPercentage calculated::\" + str(percent))"
   ]
  },
  {
   "cell_type": "code",
   "execution_count": null,
   "metadata": {},
   "outputs": [],
   "source": []
  },
  {
   "cell_type": "code",
   "execution_count": null,
   "metadata": {},
   "outputs": [],
   "source": []
  }
 ],
 "metadata": {
  "kernelspec": {
   "display_name": "Python 3",
   "language": "python",
   "name": "python3"
  },
  "language_info": {
   "codemirror_mode": {
    "name": "ipython",
    "version": 3
   },
   "file_extension": ".py",
   "mimetype": "text/x-python",
   "name": "python",
   "nbconvert_exporter": "python",
   "pygments_lexer": "ipython3",
   "version": "3.7.3"
  }
 },
 "nbformat": 4,
 "nbformat_minor": 4
}
