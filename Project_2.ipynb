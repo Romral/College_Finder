{
 "cells": [
  {
   "cell_type": "markdown",
   "metadata": {},
   "source": [
    "# Rock Paper Scissor Time"
   ]
  },
  {
   "cell_type": "code",
   "execution_count": 21,
   "metadata": {},
   "outputs": [
    {
     "name": "stdout",
     "output_type": "stream",
     "text": [
      "Type your choice, Player!!\n",
      "\n",
      " 1. Rock\n",
      " 2. Paper\n",
      " 3. Scissor\n",
      "\n",
      "Rock\n",
      "\n",
      "Computer's Choice: Rock\n",
      "\n",
      "It's a Draw!!\n"
     ]
    }
   ],
   "source": [
    "import random\n",
    "player = str(input(\"Type your choice, Player!!\\n\\n 1. Rock\\n 2. Paper\\n 3. Scissor\\n\\n\"))\n",
    "flag=0\n",
    "if (player != \"Rock\") and (player!=\"Scissor\") and (player!=\"Paper\"):\n",
    "    print(\"Invalid choice\")\n",
    "    flag=1\n",
    "if(flag==0):    \n",
    "    n = random.randint(1,3)\n",
    "    if n==1:\n",
    "        comp = \"Rock\"\n",
    "    elif n==2:\n",
    "        comp = \"Paper\"\n",
    "    else:\n",
    "        comp = \"Scissor\"\n",
    "    print(\"\\nComputer's Choice: \"+comp+\"\\n\")\n",
    "    if(comp == player):\n",
    "        print(\"It's a Draw!!\")\n",
    "    else:\n",
    "        if(comp == \"Rock\"):\n",
    "            if(player == \"Paper\"):\n",
    "                print(\"Yayy!! You Win!!!\")\n",
    "            else:\n",
    "                print(\"The Computer Wins..\")\n",
    "        elif(comp == \"Paper\"):\n",
    "            if(player == \"Scissor\"):\n",
    "                print(\"Yayy!! You Win!!!\")\n",
    "            else:\n",
    "                print(\"The Computer Wins..\")\n",
    "        else:\n",
    "            if(player == \"Rock\"):\n",
    "                print(\"Yayy!! You Win!!!\")\n",
    "            else:\n",
    "                print(\"The Computer Wins..\")"
   ]
  },
  {
   "cell_type": "code",
   "execution_count": null,
   "metadata": {},
   "outputs": [],
   "source": []
  }
 ],
 "metadata": {
  "kernelspec": {
   "display_name": "Python 3",
   "language": "python",
   "name": "python3"
  },
  "language_info": {
   "codemirror_mode": {
    "name": "ipython",
    "version": 3
   },
   "file_extension": ".py",
   "mimetype": "text/x-python",
   "name": "python",
   "nbconvert_exporter": "python",
   "pygments_lexer": "ipython3",
   "version": "3.7.3"
  }
 },
 "nbformat": 4,
 "nbformat_minor": 4
}
